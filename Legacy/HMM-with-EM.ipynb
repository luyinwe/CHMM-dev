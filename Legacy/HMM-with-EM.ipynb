{
 "cells": [
  {
   "cell_type": "code",
   "execution_count": 1,
   "metadata": {},
   "outputs": [],
   "source": [
    "import numpy as np\n",
    "import matplotlib.pyplot as plt\n",
    "from hmmlearn import hmm"
   ]
  },
  {
   "cell_type": "code",
   "execution_count": 2,
   "metadata": {},
   "outputs": [],
   "source": [
    "idx2label = [\n",
    "    'O',\n",
    "    'B-ORG',\n",
    "    'I-ORG',\n",
    "    'B-LOC',\n",
    "    'I-LOC',\n",
    "    'B-PER',\n",
    "    'I-PER',\n",
    "    'B-MISC',\n",
    "    'I-MISC'\n",
    "]\n",
    "label2idx = {v: k for k, v in enumerate(idx2label)}"
   ]
  },
  {
   "cell_type": "code",
   "execution_count": 3,
   "metadata": {},
   "outputs": [],
   "source": [
    "import os\n",
    "\n",
    "data_dir = r'data/dataset_ner/'\n",
    "data_name = 'dev.txt'\n",
    "\n",
    "with open(os.path.join(data_dir, data_name)) as f:\n",
    "    lines = f.readlines()\n",
    "\n",
    "all_sentence = list()\n",
    "sentence = list()\n",
    "all_labels = list()\n",
    "labels = list()\n",
    "for l in lines:\n",
    "    try:\n",
    "        token, _, _, ner_label = l.strip().split()\n",
    "        sentence.append(token)\n",
    "        labels.append(ner_label)\n",
    "    except ValueError:\n",
    "        all_sentence.append(sentence)\n",
    "        all_labels.append(labels)\n",
    "        sentence = list()\n",
    "        labels = list()\n",
    "\n",
    "for sentence, labels in zip(all_sentence, all_labels):\n",
    "    assert len(sentence) == len(labels)\n",
    "\n",
    "lb_indices = [np.array([[0]] + [[label2idx[lb]] for lb in lbs]) for lbs in all_labels]\n",
    "lens = [len(lb) for lb in lb_indices]\n",
    "\n",
    "X = np.concatenate(lb_indices)"
   ]
  },
  {
   "cell_type": "code",
   "execution_count": 4,
   "metadata": {},
   "outputs": [],
   "source": [
    "tr_matrix = np.zeros([len(label2idx), len(label2idx)])\n",
    "for lb_index in lb_indices:\n",
    "    for l0, l1 in zip(lb_index[:-1], lb_index[1:]):\n",
    "        tr_matrix[l0[0], l1[0]] += 1\n",
    "tr_matrix = tr_matrix / tr_matrix.sum(axis=1).reshape(len(label2idx), 1)\n",
    "emission_probability = np.identity(len(idx2label))*0.5 + np.ones([len(idx2label)]) * 0.05\n",
    "# emission_probability = np.identity(len(idx2label))\n",
    "start_prob = np.zeros(len(idx2label))\n",
    "start_prob[0] = 1"
   ]
  },
  {
   "cell_type": "code",
   "execution_count": 9,
   "metadata": {},
   "outputs": [],
   "source": [
    "model = hmm.MultinomialHMM(n_components=len(idx2label), n_iter=15, verbose=True, init_params='e')\n",
    "\n",
    "model.startprob_ = start_prob\n",
    "# self.emissionprob_ = emission_probability\n",
    "model.transmat_ = tr_matrix"
   ]
  },
  {
   "cell_type": "code",
   "execution_count": 10,
   "metadata": {},
   "outputs": [
    {
     "data": {
      "text/plain": [
       "<matplotlib.image.AxesImage at 0x7f8bddcb6908>"
      ]
     },
     "execution_count": 10,
     "metadata": {},
     "output_type": "execute_result"
    },
    {
     "data": {
      "image/png": "[encoded data removed]",
      "text/plain": [
       "<Figure size 288x288 with 1 Axes>"
      ]
     },
     "metadata": {
      "needs_background": "light"
     },
     "output_type": "display_data"
    }
   ],
   "source": [
    "plt.matshow(tr_matrix)"
   ]
  },
  {
   "cell_type": "code",
   "execution_count": 11,
   "metadata": {},
   "outputs": [
    {
     "name": "stderr",
     "output_type": "stream",
     "text": [
      "         1     -159211.6422             +nan\n",
      "         2      -38999.6048     +120212.0374\n",
      "         3      -38636.1322        +363.4726\n",
      "         4      -38346.0649        +290.0672\n",
      "         5      -38015.4388        +330.6262\n",
      "         6      -37618.5087        +396.9300\n",
      "         7      -37108.8125        +509.6962\n",
      "         8      -36471.0191        +637.7934\n",
      "         9      -35962.2437        +508.7754\n",
      "        10      -35684.6011        +277.6427\n",
      "        11      -35454.0580        +230.5430\n",
      "        12      -35195.2684        +258.7897\n",
      "        13      -34898.4842        +296.7842\n",
      "        14      -34578.4604        +320.0238\n",
      "        15      -34255.4607        +322.9996\n"
     ]
    },
    {
     "data": {
      "text/plain": [
       "MultinomialHMM(algorithm='viterbi', init_params='e', n_components=9, n_iter=15,\n",
       "               params='ste',\n",
       "               random_state=RandomState(MT19937) at 0x7F8BFA03AEB8,\n",
       "               startprob_prior=1.0, tol=0.01, transmat_prior=1.0, verbose=True)"
      ]
     },
     "execution_count": 11,
     "metadata": {},
     "output_type": "execute_result"
    }
   ],
   "source": [
    "model.fit(X, lens)"
   ]
  },
  {
   "cell_type": "code",
   "execution_count": null,
   "metadata": {},
   "outputs": [],
   "source": [
    "for i, lbs in enumerate(lb_indices):\n",
    "    Z = model.predict(lbs)\n",
    "    print([idx2label[z] for z in Z])\n",
    "    print([idx2label[lb] for lb in lbs.T[0]])\n",
    "    print()\n",
    "    if i>10:\n",
    "        break"
   ]
  },
  {
   "cell_type": "code",
   "execution_count": 13,
   "metadata": {},
   "outputs": [
    {
     "data": {
      "text/plain": [
       "0.16772418603780936"
      ]
     },
     "execution_count": 13,
     "metadata": {},
     "output_type": "execute_result"
    }
   ],
   "source": [
    "accuracy = 0\n",
    "for i, lbs in enumerate(lb_indices):\n",
    "    Z = model.predict(lbs)\n",
    "    accuracy += np.sum(np.array([idx2label[z] for z in Z]) ==\n",
    "                       np.array([idx2label[lb] for lb in lbs.T[0]])) / len(Z)\n",
    "accuracy /= i+1\n",
    "accuracy"
   ]
  },
  {
   "cell_type": "code",
   "execution_count": null,
   "metadata": {},
   "outputs": [],
   "source": [
    "plt.matshow(self.transmat_)"
   ]
  },
  {
   "cell_type": "code",
   "execution_count": null,
   "metadata": {},
   "outputs": [],
   "source": [
    "plt.matshow(self.emissionprob_)"
   ]
  }
 ],
 "metadata": {
  "kernelspec": {
   "display_name": "Python 3",
   "language": "python",
   "name": "python3"
  },
  "language_info": {
   "codemirror_mode": {
    "name": "ipython",
    "version": 3
   },
   "file_extension": ".py",
   "mimetype": "text/x-python",
   "name": "python",
   "nbconvert_exporter": "python",
   "pygments_lexer": "ipython3",
   "version": "3.6.10"
  }
 },
 "nbformat": 4,
 "nbformat_minor": 4
}
